{
 "cells": [
  {
   "cell_type": "code",
   "execution_count": 17,
   "metadata": {},
   "outputs": [],
   "source": [
    "import numpy as np\n",
    "import random as rm\n",
    "import pandas as pd\n",
    "OSTK_df = pd.read_csv('OSTK.csv').dropna(axis=1, how='all')\n",
    "OSTKOpenPrices = OSTK_df['Open'].to_list()\n",
    "OSTKClosePrices = OSTK_df['Close'].to_list()"
   ]
  },
  {
   "cell_type": "markdown",
   "metadata": {},
   "source": [
    "open"
   ]
  },
  {
   "cell_type": "code",
   "execution_count": 30,
   "metadata": {},
   "outputs": [
    {
     "name": "stdout",
     "output_type": "stream",
     "text": [
      "Start state: Interval 1\n"
     ]
    }
   ],
   "source": [
    "# The statespace\n",
    "states = [\"Interval 1\",\"Interval 2\",\"Interval 3\"]\n",
    "\n",
    "# Possible sequences of events\n",
    "transitionName = [[\"11\",\"12\",\"13\"],[\"21\",\"22\",\"23\"],[\"31\",\"32\",\"33\"]]\n",
    "\n",
    "# Probabilities matrix (transition matrix)\n",
    "transitionMatrix = [[0.02,0.868,0.112],[0.02,0.868,0.112],[0.02,0.868,0.112]]\n",
    "\n",
    "# A function that implements the Markov model to forecast the state/mood.\n",
    "days=251\n",
    "d=0\n",
    "daysList=[d]\n",
    "    # Choose the starting state\n",
    "activityToday = \"Interval 1\"\n",
    "print(\"Start state: \" + activityToday)\n",
    "    # Shall store the sequence of states taken. So, this only has the starting state for now.\n",
    "activityList = [activityToday]\n",
    "i = 0\n",
    "    # To calculate the probability of the activityList\n",
    "prob = 1\n",
    "while i != days:\n",
    "    if activityToday == \"Interval 1\":\n",
    "        change = np.random.choice(transitionName[0],replace=True,p=transitionMatrix[0])\n",
    "        if change == \"11\":\n",
    "            prob = prob * 0.02\n",
    "            activityList.append(\"11\")\n",
    "            d = d + 1\n",
    "            daysList.append(d)\n",
    "            pass\n",
    "        elif change == \"12\":\n",
    "            prob = prob * 0.868\n",
    "            activityToday = \"Interval 2\"\n",
    "            activityList.append(\"12\")\n",
    "            d = d + 1\n",
    "            daysList.append(d)\n",
    "        else:\n",
    "            prob = prob * 0.112\n",
    "            activityToday = \"Interval 3\"\n",
    "            activityList.append(\"13\")\n",
    "            d = d + 1\n",
    "            daysList.append(d)\n",
    "    elif activityToday == \"Interval 2\":\n",
    "        change = np.random.choice(transitionName[1],replace=True,p=transitionMatrix[1])\n",
    "        if change == \"22\":\n",
    "            prob = prob * 0.868\n",
    "            activityList.append(\"22\")\n",
    "            d = d + 1\n",
    "            daysList.append(d)\n",
    "            pass\n",
    "        elif change == \"21\":\n",
    "            prob = prob *0.02\n",
    "            activityToday = \"Interval 1\"\n",
    "            activityList.append(\"21\")\n",
    "            d = d + 1\n",
    "            daysList.append(d)\n",
    "        else:\n",
    "            prob = prob * 0.112\n",
    "            activityToday = \"Interval 3\"\n",
    "            activityList.append(\"23\")\n",
    "            d = d + 1\n",
    "            daysList.append(d)\n",
    "    elif activityToday == \"Interval 3\":\n",
    "        change = np.random.choice(transitionName[2],replace=True,p=transitionMatrix[2])\n",
    "        if change == \"33\":\n",
    "            prob = prob * 0.112\n",
    "            activityList.append(\"33\")\n",
    "            d = d + 1\n",
    "            daysList.append(d)\n",
    "            pass\n",
    "        elif change == \"32\":\n",
    "            prob = prob * 0.868\n",
    "            activityToday = \"Interval 2\"\n",
    "            activityList.append(\"32\")\n",
    "            d = d + 1\n",
    "            daysList.append(d)\n",
    "        else:\n",
    "            prob = prob * 0.02\n",
    "            activityToday = \"Interval 1\"\n",
    "            activityList.append(\"31\")\n",
    "            d = d + 1\n",
    "            daysList.append(d)\n",
    "    i += 1  \n",
    "#print(\"Possible states: \" + str(activityList))\n",
    "#print(\"End state after \"+ str(days) + \" days: \" + activityToday)\n",
    "#print(\"Probability of the possible sequence of states: \" + str(prob))\n",
    "\n",
    "# Function that forecasts the possible state for the next 2 days"
   ]
  },
  {
   "cell_type": "code",
   "execution_count": 76,
   "metadata": {},
   "outputs": [],
   "source": [
    "price=13.31\n",
    "priceList=[price]\n",
    "\n",
    "for i in activityList: \n",
    "    if i == \"11\":\n",
    "        price=price - 1.615\n",
    "        priceList.append(price)\n",
    "    elif i == \"12\":\n",
    "        price=price + 3.23\n",
    "        priceList.append(price)\n",
    "    elif i == \"13\":\n",
    "        price=price + (3.23 + 1.615)\n",
    "        priceList.append(price)\n",
    "    elif i == \"21\": \n",
    "        price=price - 3.23\n",
    "        priceList.append(price)\n",
    "    elif i == \"22\":\n",
    "        price=price - 0.1\n",
    "        priceList.append(price)\n",
    "    elif i == \"23\":\n",
    "        price=price + 3.23\n",
    "        priceList.append(price)\n",
    "    elif i == \"31\":\n",
    "        price=price - (3.23+ 1.615)\n",
    "        priceList.append(price)    \n",
    "    elif i == \"32\":\n",
    "        price=price - 3.23\n",
    "        priceList.append(price)\n",
    "    elif i == \"33\":\n",
    "        price=price + 3.23\n",
    "        priceList.append(price)\n",
    "    else:\n",
    "        price=price+0\n",
    "#print(priceList) \n",
    "#print(daysList)"
   ]
  },
  {
   "cell_type": "code",
   "execution_count": 77,
   "metadata": {},
   "outputs": [],
   "source": [
    "import pandas as pd\n",
    "from pylab import *     #Import plotting module matplotlib as well as other modules\n",
    "                        #into the global namespace.\n",
    "#Set the default plot to be inline rather than a new window.\n",
    "%matplotlib inline\n",
    "\n",
    "goldenratio=(.50)*(1+sqrt(5))        #The next few lines are used for the size of plots\n",
    "fsx=7                              #Width (in inches) for the figures.\n",
    "fsy=fsx/goldenratio                #Height (in inches) for the figures."
   ]
  },
  {
   "cell_type": "code",
   "execution_count": 78,
   "metadata": {},
   "outputs": [
    {
     "data": {
      "image/png": "[encoded data removed]",
      "text/plain": [
       "<Figure size 504x311.489 with 1 Axes>"
      ]
     },
     "metadata": {
      "needs_background": "light"
     },
     "output_type": "display_data"
    }
   ],
   "source": [
    "#Graph\n",
    "figure(figsize=(fsx, fsy))\n",
    "plot(daysList, priceList, 'b-', label='Predicted')\n",
    "plot(daysList, OSTKOpenPrices, 'r-', label='Actual')\n",
    "#plot(tLst, totalwhogotsick,label= 'total')\n",
    "legend(loc='upper left')\n",
    "xlabel('Days')\n",
    "ylabel('Price')\n",
    "title('OSTK(Open)')\n",
    "show()"
   ]
  },
  {
   "cell_type": "markdown",
   "metadata": {},
   "source": [
    "close"
   ]
  },
  {
   "cell_type": "code",
   "execution_count": 22,
   "metadata": {},
   "outputs": [
    {
     "name": "stdout",
     "output_type": "stream",
     "text": [
      "Start state: Interval 1\n"
     ]
    }
   ],
   "source": [
    "# The statespace\n",
    "states = [\"Interval 1\",\"Interval 2\",\"Interval 3\"]\n",
    "\n",
    "# Possible sequences of events\n",
    "transitionName = [[\"11\",\"12\",\"13\"],[\"21\",\"22\",\"23\"],[\"31\",\"32\",\"33\"]]\n",
    "\n",
    "# Probabilities matrix (transition matrix)\n",
    "transitionMatrix = [[0.024,0.864,0.112],[0.024,0.864,0.112],[0.024,0.864,0.112]]\n",
    "\n",
    "# A function that implements the Markov model to forecast the state/mood.\n",
    "days=251\n",
    "d=0\n",
    "daysList=[d]\n",
    "    # Choose the starting state\n",
    "activityToday = \"Interval 1\"\n",
    "print(\"Start state: \" + activityToday)\n",
    "    # Shall store the sequence of states taken. So, this only has the starting state for now.\n",
    "activityList = [activityToday]\n",
    "i = 0\n",
    "    # To calculate the probability of the activityList\n",
    "prob = 1\n",
    "while i != days:\n",
    "    if activityToday == \"Interval 1\":\n",
    "        change = np.random.choice(transitionName[0],replace=True,p=transitionMatrix[0])\n",
    "        if change == \"11\":\n",
    "            prob = prob * 0.024\n",
    "            activityList.append(\"11\")\n",
    "            d = d + 1\n",
    "            daysList.append(d)\n",
    "            pass\n",
    "        elif change == \"12\":\n",
    "            prob = prob * 0.864\n",
    "            activityToday = \"Interval 2\"\n",
    "            activityList.append(\"12\")\n",
    "            d = d + 1\n",
    "            daysList.append(d)\n",
    "        else:\n",
    "            prob = prob * 0.112\n",
    "            activityToday = \"Interval 3\"\n",
    "            activityList.append(\"13\")\n",
    "            d = d + 1\n",
    "            daysList.append(d)\n",
    "    elif activityToday == \"Interval 2\":\n",
    "        change = np.random.choice(transitionName[1],replace=True,p=transitionMatrix[1])\n",
    "        if change == \"22\":\n",
    "            prob = prob * 0.864\n",
    "            activityList.append(\"22\")\n",
    "            d = d + 1\n",
    "            daysList.append(d)\n",
    "            pass\n",
    "        elif change == \"21\":\n",
    "            prob = prob *0.024\n",
    "            activityToday = \"Interval 1\"\n",
    "            activityList.append(\"21\")\n",
    "            d = d + 1\n",
    "            daysList.append(d)\n",
    "        else:\n",
    "            prob = prob * 0.112\n",
    "            activityToday = \"Interval 3\"\n",
    "            activityList.append(\"23\")\n",
    "            d = d + 1\n",
    "            daysList.append(d)\n",
    "    elif activityToday == \"Interval 3\":\n",
    "        change = np.random.choice(transitionName[2],replace=True,p=transitionMatrix[2])\n",
    "        if change == \"33\":\n",
    "            prob = prob * 0.112\n",
    "            activityList.append(\"33\")\n",
    "            d = d + 1\n",
    "            daysList.append(d)\n",
    "            pass\n",
    "        elif change == \"32\":\n",
    "            prob = prob * 0.864\n",
    "            activityToday = \"Interval 2\"\n",
    "            activityList.append(\"32\")\n",
    "            d = d + 1\n",
    "            daysList.append(d)\n",
    "        else:\n",
    "            prob = prob * 0.024\n",
    "            activityToday = \"Interval 1\"\n",
    "            activityList.append(\"31\")\n",
    "            d = d + 1\n",
    "            daysList.append(d)\n",
    "    i += 1  "
   ]
  },
  {
   "cell_type": "code",
   "execution_count": 85,
   "metadata": {},
   "outputs": [],
   "source": [
    "price=14.13\n",
    "priceList=[price]\n",
    "\n",
    "for i in activityList: \n",
    "    if i == \"11\":\n",
    "        price=price - 1.525\n",
    "        priceList.append(price)\n",
    "    elif i == \"12\":\n",
    "        price=price + 3.05\n",
    "        priceList.append(price)\n",
    "    elif i == \"13\":\n",
    "        price=price + (3.05 + 1.525)\n",
    "        priceList.append(price)\n",
    "    elif i == \"21\": \n",
    "        price=price - 1.525\n",
    "        priceList.append(price)\n",
    "    elif i == \"22\":\n",
    "        price=price - 0\n",
    "        priceList.append(price)\n",
    "    elif i == \"23\":\n",
    "        price=price + 1.525\n",
    "        priceList.append(price)\n",
    "    elif i == \"31\":\n",
    "        price=price - (3.05 + 1.525)\n",
    "        priceList.append(price)    \n",
    "    elif i == \"32\":\n",
    "        price=price - 3.05\n",
    "        priceList.append(price)\n",
    "    elif i == \"33\":\n",
    "        price=price + 3.05\n",
    "        priceList.append(price)\n",
    "    else:\n",
    "        price=price+0\n",
    "#print(priceList) \n",
    "#print(daysList)"
   ]
  },
  {
   "cell_type": "code",
   "execution_count": 86,
   "metadata": {},
   "outputs": [],
   "source": [
    "import pandas as pd\n",
    "from pylab import *     #Import plotting module matplotlib as well as other modules\n",
    "                        #into the global namespace.\n",
    "#Set the default plot to be inline rather than a new window.\n",
    "%matplotlib inline\n",
    "\n",
    "goldenratio=(.50)*(1+sqrt(5))        #The next few lines are used for the size of plots\n",
    "fsx=7                              #Width (in inches) for the figures.\n",
    "fsy=fsx/goldenratio                #Height (in inches) for the figures."
   ]
  },
  {
   "cell_type": "code",
   "execution_count": 87,
   "metadata": {},
   "outputs": [
    {
     "data": {
      "image/png": "[encoded data removed]",
      "text/plain": [
       "<Figure size 504x311.489 with 1 Axes>"
      ]
     },
     "metadata": {
      "needs_background": "light"
     },
     "output_type": "display_data"
    }
   ],
   "source": [
    "#Graph\n",
    "figure(figsize=(fsx, fsy))\n",
    "plot(daysList, priceList, 'b-', label='Predicted')\n",
    "plot(daysList, OSTKClosePrices, 'r-', label='Actual')\n",
    "#plot(tLst, totalwhogotsick,label= 'total')\n",
    "legend(loc='upper left')\n",
    "xlabel('Days')\n",
    "ylabel('Price')\n",
    "title('OSTK(Close)')\n",
    "show()"
   ]
  },
  {
   "cell_type": "code",
   "execution_count": null,
   "metadata": {},
   "outputs": [],
   "source": []
  }
 ],
 "metadata": {
  "kernelspec": {
   "display_name": "Python 2",
   "language": "python",
   "name": "python2"
  },
  "language_info": {
   "codemirror_mode": {
    "name": "ipython",
    "version": 2
   },
   "file_extension": ".py",
   "mimetype": "text/x-python",
   "name": "python",
   "nbconvert_exporter": "python",
   "pygments_lexer": "ipython2",
   "version": "2.7.16"
  }
 },
 "nbformat": 4,
 "nbformat_minor": 2
}
