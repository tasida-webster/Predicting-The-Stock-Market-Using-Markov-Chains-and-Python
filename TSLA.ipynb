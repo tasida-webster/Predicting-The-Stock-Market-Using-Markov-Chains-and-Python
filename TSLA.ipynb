{
 "cells": [
  {
   "cell_type": "code",
   "execution_count": 6,
   "metadata": {},
   "outputs": [],
   "source": [
    "import numpy as np\n",
    "import random as rm\n",
    "import pandas as pd\n",
    "TSLA_df = pd.read_csv('TSLA.csv').dropna(axis=1, how='all')\n",
    "TSLAOpenPrices = TSLA_df['Open'].to_list()\n",
    "TSLAClosePrices = TSLA_df['Close'].to_list()"
   ]
  },
  {
   "cell_type": "markdown",
   "metadata": {},
   "source": [
    "open"
   ]
  },
  {
   "cell_type": "code",
   "execution_count": 16,
   "metadata": {},
   "outputs": [
    {
     "name": "stdout",
     "output_type": "stream",
     "text": [
      "Start state: Interval 1\n"
     ]
    }
   ],
   "source": [
    "# The statespace\n",
    "states = [\"Interval 1\",\"Interval 2\",\"Interval 3\"]\n",
    "\n",
    "# Possible sequences of events\n",
    "transitionName = [[\"11\",\"12\",\"13\"],[\"21\",\"22\",\"23\"],[\"31\",\"32\",\"33\"]]\n",
    "\n",
    "# Probabilities matrix (transition matrix)\n",
    "transitionMatrix = [[0.3124,0.6797,0.0079],[0.3124,0.6797,0.0079],[0.3124,0.6797,0.0079]]\n",
    "\n",
    "# A function that implements the Markov model to forecast the state/mood.\n",
    "days=251\n",
    "d=0\n",
    "daysList=[d]\n",
    "    # Choose the starting state\n",
    "activityToday = \"Interval 1\"\n",
    "print(\"Start state: \" + activityToday)\n",
    "    # Shall store the sequence of states taken. So, this only has the starting state for now.\n",
    "activityList = [activityToday]\n",
    "i = 0\n",
    "    # To calculate the probability of the activityList\n",
    "prob = 1\n",
    "while i != days:\n",
    "    if activityToday == \"Interval 1\":\n",
    "        change = np.random.choice(transitionName[0],replace=True,p=transitionMatrix[0])\n",
    "        if change == \"11\":\n",
    "            prob = prob * 0.3124\n",
    "            activityList.append(\"11\")\n",
    "            d = d + 1\n",
    "            daysList.append(d)\n",
    "            pass\n",
    "        elif change == \"12\":\n",
    "            prob = prob * 0.6797\n",
    "            activityToday = \"Interval 2\"\n",
    "            activityList.append(\"12\")\n",
    "            d = d + 1\n",
    "            daysList.append(d)\n",
    "        else:\n",
    "            prob = prob * 0.0079\n",
    "            activityToday = \"Interval 3\"\n",
    "            activityList.append(\"13\")\n",
    "            d = d + 1\n",
    "            daysList.append(d)\n",
    "    elif activityToday == \"Interval 2\":\n",
    "        change = np.random.choice(transitionName[1],replace=True,p=transitionMatrix[1])\n",
    "        if change == \"22\":\n",
    "            prob = prob * 0.6797\n",
    "            activityList.append(\"22\")\n",
    "            d = d + 1\n",
    "            daysList.append(d)\n",
    "            pass\n",
    "        elif change == \"21\":\n",
    "            prob = prob *0.3124\n",
    "            activityToday = \"Interval 1\"\n",
    "            activityList.append(\"21\")\n",
    "            d = d + 1\n",
    "            daysList.append(d)\n",
    "        else:\n",
    "            prob = prob * 0.0079\n",
    "            activityToday = \"Interval 3\"\n",
    "            activityList.append(\"23\")\n",
    "            d = d + 1\n",
    "            daysList.append(d)\n",
    "    elif activityToday == \"Interval 3\":\n",
    "        change = np.random.choice(transitionName[2],replace=True,p=transitionMatrix[2])\n",
    "        if change == \"33\":\n",
    "            prob = prob * 0.0079\n",
    "            activityList.append(\"33\")\n",
    "            d = d + 1\n",
    "            daysList.append(d)\n",
    "            pass\n",
    "        elif change == \"32\":\n",
    "            prob = prob * 0.6797\n",
    "            activityToday = \"Interval 2\"\n",
    "            activityList.append(\"32\")\n",
    "            d = d + 1\n",
    "            daysList.append(d)\n",
    "        else:\n",
    "            prob = prob * 0.3124\n",
    "            activityToday = \"Interval 1\"\n",
    "            activityList.append(\"31\")\n",
    "            d = d + 1\n",
    "            daysList.append(d)\n",
    "    i += 1  \n",
    "#print(\"Possible states: \" + str(activityList))\n",
    "#print(\"End state after \"+ str(days) + \" days: \" + activityToday)\n",
    "#print(\"Probability of the possible sequence of states: \" + str(prob))\n",
    "\n",
    "# Function that forecasts the possible state for the next 2 days"
   ]
  },
  {
   "cell_type": "code",
   "execution_count": 32,
   "metadata": {},
   "outputs": [],
   "source": [
    "price=61.22\n",
    "priceList=[price]\n",
    "\n",
    "for i in activityList: \n",
    "    if i == \"11\":\n",
    "        price=price - 2.32\n",
    "        priceList.append(price)\n",
    "    elif i == \"12\":\n",
    "        price=price + 4.64\n",
    "        priceList.append(price)\n",
    "    elif i == \"13\":\n",
    "        price=price + (4.64 + 1.16)\n",
    "        priceList.append(price)\n",
    "    elif i == \"21\": \n",
    "        price=price - 4.64\n",
    "        priceList.append(price)\n",
    "    elif i == \"22\":\n",
    "        price=price + 0\n",
    "        priceList.append(price)\n",
    "    elif i == \"23\":\n",
    "        price=price + 2.32\n",
    "        priceList.append(price)\n",
    "    elif i == \"31\":\n",
    "        price=price - (4.64 + 1.16)\n",
    "        priceList.append(price)    \n",
    "    elif i == \"32\":\n",
    "        price=price - 4.64\n",
    "        priceList.append(price)\n",
    "    elif i == \"33\":\n",
    "        price=price + 1.16\n",
    "        priceList.append(price)\n",
    "    else:\n",
    "        price=price+0\n",
    "#print(priceList) \n",
    "#print(daysList)"
   ]
  },
  {
   "cell_type": "code",
   "execution_count": 33,
   "metadata": {},
   "outputs": [],
   "source": [
    "import pandas as pd\n",
    "from pylab import *     #Import plotting module matplotlib as well as other modules\n",
    "                        #into the global namespace.\n",
    "#Set the default plot to be inline rather than a new window.\n",
    "%matplotlib inline\n",
    "\n",
    "goldenratio=(.50)*(1+sqrt(5))        #The next few lines are used for the size of plots\n",
    "fsx=7                              #Width (in inches) for the figures.\n",
    "fsy=fsx/goldenratio                #Height (in inches) for the figures."
   ]
  },
  {
   "cell_type": "code",
   "execution_count": 34,
   "metadata": {},
   "outputs": [
    {
     "data": {
      "image/png": "[encoded data removed]",
      "text/plain": [
       "<Figure size 504x311.489 with 1 Axes>"
      ]
     },
     "metadata": {
      "needs_background": "light"
     },
     "output_type": "display_data"
    }
   ],
   "source": [
    "#Graph\n",
    "figure(figsize=(fsx, fsy))\n",
    "plot(daysList, priceList, 'b-', label='Predicted')\n",
    "plot(daysList, TSLAOpenPrices, 'r-', label='Actual')\n",
    "legend(loc='upper left')\n",
    "xlabel('Days')\n",
    "ylabel('Price')\n",
    "title('TSLA(Open)')\n",
    "show()"
   ]
  },
  {
   "cell_type": "markdown",
   "metadata": {},
   "source": [
    "close"
   ]
  },
  {
   "cell_type": "code",
   "execution_count": 38,
   "metadata": {},
   "outputs": [
    {
     "name": "stdout",
     "output_type": "stream",
     "text": [
      "Start state: Interval 1\n"
     ]
    }
   ],
   "source": [
    "# The statespace\n",
    "states = [\"Interval 1\",\"Interval 2\",\"Interval 3\"]\n",
    "\n",
    "# Possible sequences of events\n",
    "transitionName = [[\"11\",\"12\",\"13\"],[\"21\",\"22\",\"23\"],[\"31\",\"32\",\"33\"]]\n",
    "\n",
    "# Probabilities matrix (transition matrix)\n",
    "transitionMatrix = [[0.2301,0.7611,0.0088],[0.2301,0.7611,0.0088],[0.2301,0.7611,0.0088]]\n",
    "\n",
    "# A function that implements the Markov model to forecast the state/mood.\n",
    "days=251\n",
    "d=0\n",
    "daysList=[d]\n",
    "    # Choose the starting state\n",
    "activityToday = \"Interval 1\"\n",
    "print(\"Start state: \" + activityToday)\n",
    "    # Shall store the sequence of states taken. So, this only has the starting state for now.\n",
    "activityList = [activityToday]\n",
    "i = 0\n",
    "    # To calculate the probability of the activityList\n",
    "prob = 1\n",
    "while i != days:\n",
    "    if activityToday == \"Interval 1\":\n",
    "        change = np.random.choice(transitionName[0],replace=True,p=transitionMatrix[0])\n",
    "        if change == \"11\":\n",
    "            prob = prob * 0.2301\n",
    "            activityList.append(\"11\")\n",
    "            d = d + 1\n",
    "            daysList.append(d)\n",
    "            pass\n",
    "        elif change == \"12\":\n",
    "            prob = prob * 0.7611\n",
    "            activityToday = \"Interval 2\"\n",
    "            activityList.append(\"12\")\n",
    "            d = d + 1\n",
    "            daysList.append(d)\n",
    "        else:\n",
    "            prob = prob * 0.0088\n",
    "            activityToday = \"Interval 3\"\n",
    "            activityList.append(\"13\")\n",
    "            d = d + 1\n",
    "            daysList.append(d)\n",
    "    elif activityToday == \"Interval 2\":\n",
    "        change = np.random.choice(transitionName[1],replace=True,p=transitionMatrix[1])\n",
    "        if change == \"22\":\n",
    "            prob = prob * 0.7611\n",
    "            activityList.append(\"22\")\n",
    "            d = d + 1\n",
    "            daysList.append(d)\n",
    "            pass\n",
    "        elif change == \"21\":\n",
    "            prob = prob * 0.2301\n",
    "            activityToday = \"Interval 1\"\n",
    "            activityList.append(\"21\")\n",
    "            d = d + 1\n",
    "            daysList.append(d)\n",
    "        else:\n",
    "            prob = prob * 0.0088\n",
    "            activityToday = \"Interval 3\"\n",
    "            activityList.append(\"23\")\n",
    "            d = d + 1\n",
    "            daysList.append(d)\n",
    "    elif activityToday == \"Interval 3\":\n",
    "        change = np.random.choice(transitionName[2],replace=True,p=transitionMatrix[2])\n",
    "        if change == \"33\":\n",
    "            prob = prob * 0.0088\n",
    "            activityList.append(\"33\")\n",
    "            d = d + 1\n",
    "            daysList.append(d)\n",
    "            pass\n",
    "        elif change == \"32\":\n",
    "            prob = prob * 0.7611\n",
    "            activityToday = \"Interval 2\"\n",
    "            activityList.append(\"32\")\n",
    "            d = d + 1\n",
    "            daysList.append(d)\n",
    "        else:\n",
    "            prob = prob * 0.2301\n",
    "            activityToday = \"Interval 1\"\n",
    "            activityList.append(\"31\")\n",
    "            d = d + 1\n",
    "            daysList.append(d)\n",
    "    i += 1  \n",
    "#print(\"Possible states: \" + str(activityList))\n",
    "#print(\"End state after \"+ str(days) + \" days: \" + activityToday)\n",
    "#print(\"Probability of the possible sequence of states: \" + str(prob))\n",
    "\n",
    "# Function that forecasts the possible state for the next 2 days"
   ]
  },
  {
   "cell_type": "code",
   "execution_count": 51,
   "metadata": {},
   "outputs": [],
   "source": [
    "price=62.024\n",
    "priceList=[price]\n",
    "\n",
    "for i in activityList: \n",
    "    if i == \"11\":\n",
    "        price=price - 1.50\n",
    "        priceList.append(price)\n",
    "    elif i == \"12\":\n",
    "        price=price + 6.00\n",
    "        priceList.append(price)\n",
    "    elif i == \"13\":\n",
    "        price=price + (6.00 + 3.00)\n",
    "        priceList.append(price)\n",
    "    elif i == \"21\": \n",
    "        price=price - 6.00\n",
    "        priceList.append(price)\n",
    "    elif i == \"22\":\n",
    "        price=price + 0\n",
    "        priceList.append(price)\n",
    "    elif i == \"23\":\n",
    "        price=price + 6.00\n",
    "        priceList.append(price)\n",
    "    elif i == \"31\":\n",
    "        price=price - (6.00 + 6.00)\n",
    "        priceList.append(price)    \n",
    "    elif i == \"32\":\n",
    "        price=price - 6.00\n",
    "        priceList.append(price)\n",
    "    elif i == \"33\":\n",
    "        price=price + 1.50\n",
    "        priceList.append(price)\n",
    "    else:\n",
    "        price=price+0\n",
    "#print(priceList) \n",
    "#print(daysList)"
   ]
  },
  {
   "cell_type": "code",
   "execution_count": 52,
   "metadata": {},
   "outputs": [],
   "source": [
    "import pandas as pd\n",
    "from pylab import *     #Import plotting module matplotlib as well as other modules\n",
    "                        #into the global namespace.\n",
    "#Set the default plot to be inline rather than a new window.\n",
    "%matplotlib inline\n",
    "\n",
    "goldenratio=(.50)*(1+sqrt(5))        #The next few lines are used for the size of plots\n",
    "fsx=7                              #Width (in inches) for the figures.\n",
    "fsy=fsx/goldenratio                #Height (in inches) for the figures."
   ]
  },
  {
   "cell_type": "code",
   "execution_count": 53,
   "metadata": {},
   "outputs": [
    {
     "data": {
      "image/png": "[encoded data removed]",
      "text/plain": [
       "<Figure size 504x311.489 with 1 Axes>"
      ]
     },
     "metadata": {
      "needs_background": "light"
     },
     "output_type": "display_data"
    }
   ],
   "source": [
    "#Graph\n",
    "figure(figsize=(fsx, fsy))\n",
    "plot(daysList, priceList, 'b-', label='Predicted')\n",
    "plot(daysList, TSLAClosePrices, 'r-', label='Actual')\n",
    "legend(loc='upper left')\n",
    "xlabel('Days')\n",
    "ylabel('Price')\n",
    "title('TSLA(Close)')\n",
    "show()"
   ]
  },
  {
   "cell_type": "code",
   "execution_count": null,
   "metadata": {},
   "outputs": [],
   "source": []
  }
 ],
 "metadata": {
  "kernelspec": {
   "display_name": "Python 2",
   "language": "python",
   "name": "python2"
  },
  "language_info": {
   "codemirror_mode": {
    "name": "ipython",
    "version": 2
   },
   "file_extension": ".py",
   "mimetype": "text/x-python",
   "name": "python",
   "nbconvert_exporter": "python",
   "pygments_lexer": "ipython2",
   "version": "2.7.16"
  }
 },
 "nbformat": 4,
 "nbformat_minor": 2
}
